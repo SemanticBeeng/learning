{
 "metadata": {
  "name": "",
  "signature": "sha256:1026bdd5e89120defe1bdbd5e95551adcf8fda4cbf39c2909338f64232bfc1a5"
 },
 "nbformat": 3,
 "nbformat_minor": 0,
 "worksheets": [
  {
   "cells": [
    {
     "cell_type": "code",
     "collapsed": false,
     "input": [
      "import pandas as pd\n",
      "import pandas.rpy.common as com\n",
      "import numpy as np\n",
      "from sklearn.feature_extraction import DictVectorizer\n",
      "\n",
      "%load_ext autoreload\n",
      "%autoreload 2\n",
      "\n",
      "%load_ext rmagic\n",
      "\n",
      "%matplotlib inline\n",
      "\n",
      "%precision 2\n",
      "pd.set_option('display.precision', 3)\n",
      "\n",
      "# Rprofile resets the working directory\n",
      "%R setwd('C:/Users/Scott/Documents/GitHub/learning')\n",
      "\n",
      "import ndl"
     ],
     "language": "python",
     "metadata": {},
     "outputs": [
      {
       "metadata": {},
       "output_type": "display_data",
       "png": "[encoded data removed]"
      }
     ],
     "prompt_number": 1
    },
    {
     "cell_type": "code",
     "collapsed": false,
     "input": [
      "%%R\n",
      "library(ndl)"
     ],
     "language": "python",
     "metadata": {},
     "outputs": [
      {
       "metadata": {},
       "output_type": "display_data",
       "png": "[encoded data removed]"
      }
     ],
     "prompt_number": 2
    },
    {
     "cell_type": "code",
     "collapsed": false,
     "input": [
      "data = com.load_data('numbers')\n",
      "data['Cues'] = [x.split('_') for x in data['Cues']]\n",
      "data['Number'] = data['Outcomes']\n",
      "data"
     ],
     "language": "python",
     "metadata": {},
     "outputs": [
      {
       "html": [
        "<div style=\"max-height:1000px;max-width:1500px;overflow:auto;\">\n",
        "<table border=\"1\" class=\"dataframe\">\n",
        "  <thead>\n",
        "    <tr style=\"text-align: right;\">\n",
        "      <th></th>\n",
        "      <th>Cues</th>\n",
        "      <th>Outcomes</th>\n",
        "      <th>Frequency</th>\n",
        "      <th>Number</th>\n",
        "    </tr>\n",
        "  </thead>\n",
        "  <tbody>\n",
        "    <tr>\n",
        "      <th>1 </th>\n",
        "      <td>                 [size, shape, color, 1, exactly1]</td>\n",
        "      <td>  1</td>\n",
        "      <td> 455</td>\n",
        "      <td>  1</td>\n",
        "    </tr>\n",
        "    <tr>\n",
        "      <th>2 </th>\n",
        "      <td>              [size, shape, color, 1, 2, exactly2]</td>\n",
        "      <td>  2</td>\n",
        "      <td> 205</td>\n",
        "      <td>  2</td>\n",
        "    </tr>\n",
        "    <tr>\n",
        "      <th>3 </th>\n",
        "      <td>           [size, shape, color, 1, 2, 3, exactly3]</td>\n",
        "      <td>  3</td>\n",
        "      <td> 107</td>\n",
        "      <td>  3</td>\n",
        "    </tr>\n",
        "    <tr>\n",
        "      <th>4 </th>\n",
        "      <td>        [size, shape, color, 1, 2, 3, 4, exactly4]</td>\n",
        "      <td>  4</td>\n",
        "      <td>  60</td>\n",
        "      <td>  4</td>\n",
        "    </tr>\n",
        "    <tr>\n",
        "      <th>5 </th>\n",
        "      <td>     [size, shape, color, 1, 2, 3, 4, 5, exactly5]</td>\n",
        "      <td>  5</td>\n",
        "      <td>  50</td>\n",
        "      <td>  5</td>\n",
        "    </tr>\n",
        "    <tr>\n",
        "      <th>6 </th>\n",
        "      <td>  [size, shape, color, 1, 2, 3, 4, 5, 6, exactly6]</td>\n",
        "      <td>  6</td>\n",
        "      <td>  36</td>\n",
        "      <td>  6</td>\n",
        "    </tr>\n",
        "    <tr>\n",
        "      <th>7 </th>\n",
        "      <td> [size, shape, color, 1, 2, 3, 4, 5, 6, 7, exac...</td>\n",
        "      <td>  7</td>\n",
        "      <td>  21</td>\n",
        "      <td>  7</td>\n",
        "    </tr>\n",
        "    <tr>\n",
        "      <th>8 </th>\n",
        "      <td> [size, shape, color, 1, 2, 3, 4, 5, 6, 7, 8, e...</td>\n",
        "      <td>  8</td>\n",
        "      <td>  20</td>\n",
        "      <td>  8</td>\n",
        "    </tr>\n",
        "    <tr>\n",
        "      <th>9 </th>\n",
        "      <td> [size, shape, color, 1, 2, 3, 4, 5, 6, 7, 8, 9...</td>\n",
        "      <td>  9</td>\n",
        "      <td>  13</td>\n",
        "      <td>  9</td>\n",
        "    </tr>\n",
        "    <tr>\n",
        "      <th>10</th>\n",
        "      <td> [size, shape, color, 1, 2, 3, 4, 5, 6, 7, 8, 9...</td>\n",
        "      <td> 10</td>\n",
        "      <td>  16</td>\n",
        "      <td> 10</td>\n",
        "    </tr>\n",
        "    <tr>\n",
        "      <th>11</th>\n",
        "      <td> [size, shape, color, 1, 2, 3, 4, 5, 6, 7, 8, 9...</td>\n",
        "      <td> 11</td>\n",
        "      <td>   3</td>\n",
        "      <td> 11</td>\n",
        "    </tr>\n",
        "    <tr>\n",
        "      <th>12</th>\n",
        "      <td> [size, shape, color, 1, 2, 3, 4, 5, 6, 7, 8, 9...</td>\n",
        "      <td> 12</td>\n",
        "      <td>   4</td>\n",
        "      <td> 12</td>\n",
        "    </tr>\n",
        "    <tr>\n",
        "      <th>13</th>\n",
        "      <td> [size, shape, color, 1, 2, 3, 4, 5, 6, 7, 8, 9...</td>\n",
        "      <td> 13</td>\n",
        "      <td>   2</td>\n",
        "      <td> 13</td>\n",
        "    </tr>\n",
        "    <tr>\n",
        "      <th>14</th>\n",
        "      <td> [size, shape, color, 1, 2, 3, 4, 5, 6, 7, 8, 9...</td>\n",
        "      <td> 14</td>\n",
        "      <td>   2</td>\n",
        "      <td> 14</td>\n",
        "    </tr>\n",
        "    <tr>\n",
        "      <th>15</th>\n",
        "      <td> [size, shape, color, 1, 2, 3, 4, 5, 6, 7, 8, 9...</td>\n",
        "      <td> 15</td>\n",
        "      <td>   4</td>\n",
        "      <td> 15</td>\n",
        "    </tr>\n",
        "  </tbody>\n",
        "</table>\n",
        "<p>15 rows \u00d7 4 columns</p>\n",
        "</div>"
       ],
       "metadata": {},
       "output_type": "pyout",
       "prompt_number": 3,
       "text": [
        "                                                 Cues Outcomes  Frequency  \\\n",
        "1                   [size, shape, color, 1, exactly1]        1        455   \n",
        "2                [size, shape, color, 1, 2, exactly2]        2        205   \n",
        "3             [size, shape, color, 1, 2, 3, exactly3]        3        107   \n",
        "4          [size, shape, color, 1, 2, 3, 4, exactly4]        4         60   \n",
        "5       [size, shape, color, 1, 2, 3, 4, 5, exactly5]        5         50   \n",
        "6    [size, shape, color, 1, 2, 3, 4, 5, 6, exactly6]        6         36   \n",
        "7   [size, shape, color, 1, 2, 3, 4, 5, 6, 7, exac...        7         21   \n",
        "8   [size, shape, color, 1, 2, 3, 4, 5, 6, 7, 8, e...        8         20   \n",
        "9   [size, shape, color, 1, 2, 3, 4, 5, 6, 7, 8, 9...        9         13   \n",
        "10  [size, shape, color, 1, 2, 3, 4, 5, 6, 7, 8, 9...       10         16   \n",
        "11  [size, shape, color, 1, 2, 3, 4, 5, 6, 7, 8, 9...       11          3   \n",
        "12  [size, shape, color, 1, 2, 3, 4, 5, 6, 7, 8, 9...       12          4   \n",
        "13  [size, shape, color, 1, 2, 3, 4, 5, 6, 7, 8, 9...       13          2   \n",
        "14  [size, shape, color, 1, 2, 3, 4, 5, 6, 7, 8, 9...       14          2   \n",
        "15  [size, shape, color, 1, 2, 3, 4, 5, 6, 7, 8, 9...       15          4   \n",
        "\n",
        "   Number  \n",
        "1       1  \n",
        "2       2  \n",
        "3       3  \n",
        "4       4  \n",
        "5       5  \n",
        "6       6  \n",
        "7       7  \n",
        "8       8  \n",
        "9       9  \n",
        "10     10  \n",
        "11     11  \n",
        "12     12  \n",
        "13     13  \n",
        "14     14  \n",
        "15     15  \n",
        "\n",
        "[15 rows x 4 columns]"
       ]
      }
     ],
     "prompt_number": 3
    },
    {
     "cell_type": "code",
     "collapsed": false,
     "input": [
      "def activation(W):\n",
      "    return pd.DataFrame([ndl.activation(c,W) for c in data.Cues],index=data.index)"
     ],
     "language": "python",
     "metadata": {},
     "outputs": [],
     "prompt_number": 4
    },
    {
     "cell_type": "heading",
     "level": 1,
     "metadata": {},
     "source": [
      "Singular / plural distinction"
     ]
    },
    {
     "cell_type": "code",
     "collapsed": false,
     "input": [
      "data['Outcomes'] = 'plural'\n",
      "data['Outcomes'][1] = 'singular'\n",
      "data"
     ],
     "language": "python",
     "metadata": {},
     "outputs": [
      {
       "html": [
        "<div style=\"max-height:1000px;max-width:1500px;overflow:auto;\">\n",
        "<table border=\"1\" class=\"dataframe\">\n",
        "  <thead>\n",
        "    <tr style=\"text-align: right;\">\n",
        "      <th></th>\n",
        "      <th>Cues</th>\n",
        "      <th>Outcomes</th>\n",
        "      <th>Frequency</th>\n",
        "      <th>Number</th>\n",
        "    </tr>\n",
        "  </thead>\n",
        "  <tbody>\n",
        "    <tr>\n",
        "      <th>1 </th>\n",
        "      <td>                 [size, shape, color, 1, exactly1]</td>\n",
        "      <td> singular</td>\n",
        "      <td> 455</td>\n",
        "      <td>  1</td>\n",
        "    </tr>\n",
        "    <tr>\n",
        "      <th>2 </th>\n",
        "      <td>              [size, shape, color, 1, 2, exactly2]</td>\n",
        "      <td>   plural</td>\n",
        "      <td> 205</td>\n",
        "      <td>  2</td>\n",
        "    </tr>\n",
        "    <tr>\n",
        "      <th>3 </th>\n",
        "      <td>           [size, shape, color, 1, 2, 3, exactly3]</td>\n",
        "      <td>   plural</td>\n",
        "      <td> 107</td>\n",
        "      <td>  3</td>\n",
        "    </tr>\n",
        "    <tr>\n",
        "      <th>4 </th>\n",
        "      <td>        [size, shape, color, 1, 2, 3, 4, exactly4]</td>\n",
        "      <td>   plural</td>\n",
        "      <td>  60</td>\n",
        "      <td>  4</td>\n",
        "    </tr>\n",
        "    <tr>\n",
        "      <th>5 </th>\n",
        "      <td>     [size, shape, color, 1, 2, 3, 4, 5, exactly5]</td>\n",
        "      <td>   plural</td>\n",
        "      <td>  50</td>\n",
        "      <td>  5</td>\n",
        "    </tr>\n",
        "    <tr>\n",
        "      <th>6 </th>\n",
        "      <td>  [size, shape, color, 1, 2, 3, 4, 5, 6, exactly6]</td>\n",
        "      <td>   plural</td>\n",
        "      <td>  36</td>\n",
        "      <td>  6</td>\n",
        "    </tr>\n",
        "    <tr>\n",
        "      <th>7 </th>\n",
        "      <td> [size, shape, color, 1, 2, 3, 4, 5, 6, 7, exac...</td>\n",
        "      <td>   plural</td>\n",
        "      <td>  21</td>\n",
        "      <td>  7</td>\n",
        "    </tr>\n",
        "    <tr>\n",
        "      <th>8 </th>\n",
        "      <td> [size, shape, color, 1, 2, 3, 4, 5, 6, 7, 8, e...</td>\n",
        "      <td>   plural</td>\n",
        "      <td>  20</td>\n",
        "      <td>  8</td>\n",
        "    </tr>\n",
        "    <tr>\n",
        "      <th>9 </th>\n",
        "      <td> [size, shape, color, 1, 2, 3, 4, 5, 6, 7, 8, 9...</td>\n",
        "      <td>   plural</td>\n",
        "      <td>  13</td>\n",
        "      <td>  9</td>\n",
        "    </tr>\n",
        "    <tr>\n",
        "      <th>10</th>\n",
        "      <td> [size, shape, color, 1, 2, 3, 4, 5, 6, 7, 8, 9...</td>\n",
        "      <td>   plural</td>\n",
        "      <td>  16</td>\n",
        "      <td> 10</td>\n",
        "    </tr>\n",
        "    <tr>\n",
        "      <th>11</th>\n",
        "      <td> [size, shape, color, 1, 2, 3, 4, 5, 6, 7, 8, 9...</td>\n",
        "      <td>   plural</td>\n",
        "      <td>   3</td>\n",
        "      <td> 11</td>\n",
        "    </tr>\n",
        "    <tr>\n",
        "      <th>12</th>\n",
        "      <td> [size, shape, color, 1, 2, 3, 4, 5, 6, 7, 8, 9...</td>\n",
        "      <td>   plural</td>\n",
        "      <td>   4</td>\n",
        "      <td> 12</td>\n",
        "    </tr>\n",
        "    <tr>\n",
        "      <th>13</th>\n",
        "      <td> [size, shape, color, 1, 2, 3, 4, 5, 6, 7, 8, 9...</td>\n",
        "      <td>   plural</td>\n",
        "      <td>   2</td>\n",
        "      <td> 13</td>\n",
        "    </tr>\n",
        "    <tr>\n",
        "      <th>14</th>\n",
        "      <td> [size, shape, color, 1, 2, 3, 4, 5, 6, 7, 8, 9...</td>\n",
        "      <td>   plural</td>\n",
        "      <td>   2</td>\n",
        "      <td> 14</td>\n",
        "    </tr>\n",
        "    <tr>\n",
        "      <th>15</th>\n",
        "      <td> [size, shape, color, 1, 2, 3, 4, 5, 6, 7, 8, 9...</td>\n",
        "      <td>   plural</td>\n",
        "      <td>   4</td>\n",
        "      <td> 15</td>\n",
        "    </tr>\n",
        "  </tbody>\n",
        "</table>\n",
        "<p>15 rows \u00d7 4 columns</p>\n",
        "</div>"
       ],
       "metadata": {},
       "output_type": "pyout",
       "prompt_number": 5,
       "text": [
        "                                                 Cues  Outcomes  Frequency  \\\n",
        "1                   [size, shape, color, 1, exactly1]  singular        455   \n",
        "2                [size, shape, color, 1, 2, exactly2]    plural        205   \n",
        "3             [size, shape, color, 1, 2, 3, exactly3]    plural        107   \n",
        "4          [size, shape, color, 1, 2, 3, 4, exactly4]    plural         60   \n",
        "5       [size, shape, color, 1, 2, 3, 4, 5, exactly5]    plural         50   \n",
        "6    [size, shape, color, 1, 2, 3, 4, 5, 6, exactly6]    plural         36   \n",
        "7   [size, shape, color, 1, 2, 3, 4, 5, 6, 7, exac...    plural         21   \n",
        "8   [size, shape, color, 1, 2, 3, 4, 5, 6, 7, 8, e...    plural         20   \n",
        "9   [size, shape, color, 1, 2, 3, 4, 5, 6, 7, 8, 9...    plural         13   \n",
        "10  [size, shape, color, 1, 2, 3, 4, 5, 6, 7, 8, 9...    plural         16   \n",
        "11  [size, shape, color, 1, 2, 3, 4, 5, 6, 7, 8, 9...    plural          3   \n",
        "12  [size, shape, color, 1, 2, 3, 4, 5, 6, 7, 8, 9...    plural          4   \n",
        "13  [size, shape, color, 1, 2, 3, 4, 5, 6, 7, 8, 9...    plural          2   \n",
        "14  [size, shape, color, 1, 2, 3, 4, 5, 6, 7, 8, 9...    plural          2   \n",
        "15  [size, shape, color, 1, 2, 3, 4, 5, 6, 7, 8, 9...    plural          4   \n",
        "\n",
        "   Number  \n",
        "1       1  \n",
        "2       2  \n",
        "3       3  \n",
        "4       4  \n",
        "5       5  \n",
        "6       6  \n",
        "7       7  \n",
        "8       8  \n",
        "9       9  \n",
        "10     10  \n",
        "11     11  \n",
        "12     12  \n",
        "13     13  \n",
        "14     14  \n",
        "15     15  \n",
        "\n",
        "[15 rows x 4 columns]"
       ]
      }
     ],
     "prompt_number": 5
    },
    {
     "cell_type": "code",
     "collapsed": false,
     "input": [
      "W = ndl.rw(data,M=10)\n",
      "A = activation(W)\n",
      "A"
     ],
     "language": "python",
     "metadata": {},
     "outputs": [
      {
       "html": [
        "<div style=\"max-height:1000px;max-width:1500px;overflow:auto;\">\n",
        "<table border=\"1\" class=\"dataframe\">\n",
        "  <thead>\n",
        "    <tr style=\"text-align: right;\">\n",
        "      <th></th>\n",
        "      <th>plural</th>\n",
        "      <th>singular</th>\n",
        "    </tr>\n",
        "  </thead>\n",
        "  <tbody>\n",
        "    <tr>\n",
        "      <th>1 </th>\n",
        "      <td> 0.21</td>\n",
        "      <td> 0.14</td>\n",
        "    </tr>\n",
        "    <tr>\n",
        "      <th>2 </th>\n",
        "      <td> 0.31</td>\n",
        "      <td> 0.11</td>\n",
        "    </tr>\n",
        "    <tr>\n",
        "      <th>3 </th>\n",
        "      <td> 0.30</td>\n",
        "      <td> 0.11</td>\n",
        "    </tr>\n",
        "    <tr>\n",
        "      <th>4 </th>\n",
        "      <td> 0.33</td>\n",
        "      <td> 0.11</td>\n",
        "    </tr>\n",
        "    <tr>\n",
        "      <th>5 </th>\n",
        "      <td> 0.34</td>\n",
        "      <td> 0.11</td>\n",
        "    </tr>\n",
        "    <tr>\n",
        "      <th>6 </th>\n",
        "      <td> 0.35</td>\n",
        "      <td> 0.11</td>\n",
        "    </tr>\n",
        "    <tr>\n",
        "      <th>7 </th>\n",
        "      <td> 0.37</td>\n",
        "      <td> 0.11</td>\n",
        "    </tr>\n",
        "    <tr>\n",
        "      <th>8 </th>\n",
        "      <td> 0.39</td>\n",
        "      <td> 0.11</td>\n",
        "    </tr>\n",
        "    <tr>\n",
        "      <th>9 </th>\n",
        "      <td> 0.41</td>\n",
        "      <td> 0.10</td>\n",
        "    </tr>\n",
        "    <tr>\n",
        "      <th>10</th>\n",
        "      <td> 0.41</td>\n",
        "      <td> 0.10</td>\n",
        "    </tr>\n",
        "    <tr>\n",
        "      <th>11</th>\n",
        "      <td> 0.42</td>\n",
        "      <td> 0.10</td>\n",
        "    </tr>\n",
        "    <tr>\n",
        "      <th>12</th>\n",
        "      <td> 0.42</td>\n",
        "      <td> 0.10</td>\n",
        "    </tr>\n",
        "    <tr>\n",
        "      <th>13</th>\n",
        "      <td> 0.43</td>\n",
        "      <td> 0.10</td>\n",
        "    </tr>\n",
        "    <tr>\n",
        "      <th>14</th>\n",
        "      <td> 0.44</td>\n",
        "      <td> 0.10</td>\n",
        "    </tr>\n",
        "    <tr>\n",
        "      <th>15</th>\n",
        "      <td> 0.45</td>\n",
        "      <td> 0.10</td>\n",
        "    </tr>\n",
        "  </tbody>\n",
        "</table>\n",
        "<p>15 rows \u00d7 2 columns</p>\n",
        "</div>"
       ],
       "metadata": {},
       "output_type": "pyout",
       "prompt_number": 6,
       "text": [
        "    plural  singular\n",
        "1     0.21      0.14\n",
        "2     0.31      0.11\n",
        "3     0.30      0.11\n",
        "4     0.33      0.11\n",
        "5     0.34      0.11\n",
        "6     0.35      0.11\n",
        "7     0.37      0.11\n",
        "8     0.39      0.11\n",
        "9     0.41      0.10\n",
        "10    0.41      0.10\n",
        "11    0.42      0.10\n",
        "12    0.42      0.10\n",
        "13    0.43      0.10\n",
        "14    0.44      0.10\n",
        "15    0.45      0.10\n",
        "\n",
        "[15 rows x 2 columns]"
       ]
      }
     ],
     "prompt_number": 6
    },
    {
     "cell_type": "markdown",
     "metadata": {},
     "source": [
      "With these associations, how many of the 15 items will the learner correctly label?"
     ]
    },
    {
     "cell_type": "code",
     "collapsed": false,
     "input": [
      "pd.DataFrame([data['Outcomes'], A.idxmax(1), A.idxmax(1) == data['Outcomes']], index = ['Truth', 'Prediction', 'Accurate?']).T"
     ],
     "language": "python",
     "metadata": {},
     "outputs": [
      {
       "html": [
        "<div style=\"max-height:1000px;max-width:1500px;overflow:auto;\">\n",
        "<table border=\"1\" class=\"dataframe\">\n",
        "  <thead>\n",
        "    <tr style=\"text-align: right;\">\n",
        "      <th></th>\n",
        "      <th>Truth</th>\n",
        "      <th>Prediction</th>\n",
        "      <th>Accurate?</th>\n",
        "    </tr>\n",
        "  </thead>\n",
        "  <tbody>\n",
        "    <tr>\n",
        "      <th>1 </th>\n",
        "      <td> singular</td>\n",
        "      <td> plural</td>\n",
        "      <td> False</td>\n",
        "    </tr>\n",
        "    <tr>\n",
        "      <th>2 </th>\n",
        "      <td>   plural</td>\n",
        "      <td> plural</td>\n",
        "      <td>  True</td>\n",
        "    </tr>\n",
        "    <tr>\n",
        "      <th>3 </th>\n",
        "      <td>   plural</td>\n",
        "      <td> plural</td>\n",
        "      <td>  True</td>\n",
        "    </tr>\n",
        "    <tr>\n",
        "      <th>4 </th>\n",
        "      <td>   plural</td>\n",
        "      <td> plural</td>\n",
        "      <td>  True</td>\n",
        "    </tr>\n",
        "    <tr>\n",
        "      <th>5 </th>\n",
        "      <td>   plural</td>\n",
        "      <td> plural</td>\n",
        "      <td>  True</td>\n",
        "    </tr>\n",
        "    <tr>\n",
        "      <th>6 </th>\n",
        "      <td>   plural</td>\n",
        "      <td> plural</td>\n",
        "      <td>  True</td>\n",
        "    </tr>\n",
        "    <tr>\n",
        "      <th>7 </th>\n",
        "      <td>   plural</td>\n",
        "      <td> plural</td>\n",
        "      <td>  True</td>\n",
        "    </tr>\n",
        "    <tr>\n",
        "      <th>8 </th>\n",
        "      <td>   plural</td>\n",
        "      <td> plural</td>\n",
        "      <td>  True</td>\n",
        "    </tr>\n",
        "    <tr>\n",
        "      <th>9 </th>\n",
        "      <td>   plural</td>\n",
        "      <td> plural</td>\n",
        "      <td>  True</td>\n",
        "    </tr>\n",
        "    <tr>\n",
        "      <th>10</th>\n",
        "      <td>   plural</td>\n",
        "      <td> plural</td>\n",
        "      <td>  True</td>\n",
        "    </tr>\n",
        "    <tr>\n",
        "      <th>11</th>\n",
        "      <td>   plural</td>\n",
        "      <td> plural</td>\n",
        "      <td>  True</td>\n",
        "    </tr>\n",
        "    <tr>\n",
        "      <th>12</th>\n",
        "      <td>   plural</td>\n",
        "      <td> plural</td>\n",
        "      <td>  True</td>\n",
        "    </tr>\n",
        "    <tr>\n",
        "      <th>13</th>\n",
        "      <td>   plural</td>\n",
        "      <td> plural</td>\n",
        "      <td>  True</td>\n",
        "    </tr>\n",
        "    <tr>\n",
        "      <th>14</th>\n",
        "      <td>   plural</td>\n",
        "      <td> plural</td>\n",
        "      <td>  True</td>\n",
        "    </tr>\n",
        "    <tr>\n",
        "      <th>15</th>\n",
        "      <td>   plural</td>\n",
        "      <td> plural</td>\n",
        "      <td>  True</td>\n",
        "    </tr>\n",
        "  </tbody>\n",
        "</table>\n",
        "<p>15 rows \u00d7 3 columns</p>\n",
        "</div>"
       ],
       "metadata": {},
       "output_type": "pyout",
       "prompt_number": 7,
       "text": [
        "       Truth Prediction Accurate?\n",
        "1   singular     plural     False\n",
        "2     plural     plural      True\n",
        "3     plural     plural      True\n",
        "4     plural     plural      True\n",
        "5     plural     plural      True\n",
        "6     plural     plural      True\n",
        "7     plural     plural      True\n",
        "8     plural     plural      True\n",
        "9     plural     plural      True\n",
        "10    plural     plural      True\n",
        "11    plural     plural      True\n",
        "12    plural     plural      True\n",
        "13    plural     plural      True\n",
        "14    plural     plural      True\n",
        "15    plural     plural      True\n",
        "\n",
        "[15 rows x 3 columns]"
       ]
      }
     ],
     "prompt_number": 7
    },
    {
     "cell_type": "code",
     "collapsed": false,
     "input": [
      "np.mean(A.idxmax(1) == data['Outcomes'])"
     ],
     "language": "python",
     "metadata": {},
     "outputs": [
      {
       "metadata": {},
       "output_type": "pyout",
       "prompt_number": 8,
       "text": [
        "0.93"
       ]
      }
     ],
     "prompt_number": 8
    },
    {
     "cell_type": "markdown",
     "metadata": {},
     "source": [
      "How often are they correct (using relative item frequencies)?"
     ]
    },
    {
     "cell_type": "code",
     "collapsed": false,
     "input": [
      "float(sum(data['Frequency'] * (A.idxmax(1) == data['Outcomes']))) / float(sum(data['Frequency']))"
     ],
     "language": "python",
     "metadata": {},
     "outputs": [
      {
       "metadata": {},
       "output_type": "pyout",
       "prompt_number": 9,
       "text": [
        "0.54"
       ]
      }
     ],
     "prompt_number": 9
    },
    {
     "cell_type": "code",
     "collapsed": false,
     "input": [
      "def accuracy(data, M):\n",
      "    W = ndl.rw(data, M=M)\n",
      "    A = activation(W)\n",
      "    return np.mean(A.idxmax(1) == data['Outcomes'])"
     ],
     "language": "python",
     "metadata": {},
     "outputs": [],
     "prompt_number": 10
    },
    {
     "cell_type": "code",
     "collapsed": false,
     "input": [
      "accuracy(data, 10)"
     ],
     "language": "python",
     "metadata": {},
     "outputs": [
      {
       "metadata": {},
       "output_type": "pyout",
       "prompt_number": 11,
       "text": [
        "0.93"
       ]
      }
     ],
     "prompt_number": 11
    },
    {
     "cell_type": "markdown",
     "metadata": {},
     "source": [
      "For a population of 100 learners trying to acquire the number system, what proportion are able to successfully label all 15 items given M trials?"
     ]
    },
    {
     "cell_type": "code",
     "collapsed": false,
     "input": [
      "np.mean([accuracy(data, M=10) == 1 for i in xrange(100)])"
     ],
     "language": "python",
     "metadata": {},
     "outputs": [
      {
       "metadata": {},
       "output_type": "pyout",
       "prompt_number": 12,
       "text": [
        "0.33"
       ]
      }
     ],
     "prompt_number": 12
    },
    {
     "cell_type": "code",
     "collapsed": false,
     "input": [
      "def population_accuracy(M=10, pop=100):\n",
      "    return np.mean([accuracy(data, M=M) == 1 for i in xrange(pop)])"
     ],
     "language": "python",
     "metadata": {},
     "outputs": [],
     "prompt_number": 13
    },
    {
     "cell_type": "code",
     "collapsed": false,
     "input": [
      "MAX_TRIALS = 100"
     ],
     "language": "python",
     "metadata": {},
     "outputs": [],
     "prompt_number": 14
    },
    {
     "cell_type": "code",
     "collapsed": false,
     "input": [
      "P = [population_accuracy(M=i) for i in xrange(1,MAX_TRIALS)]"
     ],
     "language": "python",
     "metadata": {},
     "outputs": [],
     "prompt_number": 15
    },
    {
     "cell_type": "code",
     "collapsed": false,
     "input": [
      "import matplotlib.pyplot as plt\n",
      "\n",
      "plt.plot(range(1,len(P)+1), P, '-', linewidth=2)\n",
      "plt.title('Singular / plural distinction')\n",
      "plt.xlabel('Trial Number')\n",
      "plt.suptitle('Proportion of 100 learners who label all 15 items correctly')"
     ],
     "language": "python",
     "metadata": {},
     "outputs": [
      {
       "metadata": {},
       "output_type": "pyout",
       "prompt_number": 16,
       "text": [
        "<matplotlib.text.Text at 0x178cf4e0>"
       ]
      },
      {
       "metadata": {},
       "output_type": "display_data",
       "png": "[encoded data removed]",
       "text": [
        "<matplotlib.figure.Figure at 0x3e15cc0>"
       ]
      }
     ],
     "prompt_number": 16
    },
    {
     "cell_type": "heading",
     "level": 1,
     "metadata": {},
     "source": [
      "Dual / non-dual distinction"
     ]
    },
    {
     "cell_type": "code",
     "collapsed": false,
     "input": [
      "data['Outcomes'] = 'notdual'\n",
      "data['Outcomes'][2] = 'dual'\n",
      "data"
     ],
     "language": "python",
     "metadata": {},
     "outputs": [
      {
       "html": [
        "<div style=\"max-height:1000px;max-width:1500px;overflow:auto;\">\n",
        "<table border=\"1\" class=\"dataframe\">\n",
        "  <thead>\n",
        "    <tr style=\"text-align: right;\">\n",
        "      <th></th>\n",
        "      <th>Cues</th>\n",
        "      <th>Outcomes</th>\n",
        "      <th>Frequency</th>\n",
        "      <th>Number</th>\n",
        "    </tr>\n",
        "  </thead>\n",
        "  <tbody>\n",
        "    <tr>\n",
        "      <th>1 </th>\n",
        "      <td>                 [size, shape, color, 1, exactly1]</td>\n",
        "      <td> notdual</td>\n",
        "      <td> 455</td>\n",
        "      <td>  1</td>\n",
        "    </tr>\n",
        "    <tr>\n",
        "      <th>2 </th>\n",
        "      <td>              [size, shape, color, 1, 2, exactly2]</td>\n",
        "      <td>    dual</td>\n",
        "      <td> 205</td>\n",
        "      <td>  2</td>\n",
        "    </tr>\n",
        "    <tr>\n",
        "      <th>3 </th>\n",
        "      <td>           [size, shape, color, 1, 2, 3, exactly3]</td>\n",
        "      <td> notdual</td>\n",
        "      <td> 107</td>\n",
        "      <td>  3</td>\n",
        "    </tr>\n",
        "    <tr>\n",
        "      <th>4 </th>\n",
        "      <td>        [size, shape, color, 1, 2, 3, 4, exactly4]</td>\n",
        "      <td> notdual</td>\n",
        "      <td>  60</td>\n",
        "      <td>  4</td>\n",
        "    </tr>\n",
        "    <tr>\n",
        "      <th>5 </th>\n",
        "      <td>     [size, shape, color, 1, 2, 3, 4, 5, exactly5]</td>\n",
        "      <td> notdual</td>\n",
        "      <td>  50</td>\n",
        "      <td>  5</td>\n",
        "    </tr>\n",
        "    <tr>\n",
        "      <th>6 </th>\n",
        "      <td>  [size, shape, color, 1, 2, 3, 4, 5, 6, exactly6]</td>\n",
        "      <td> notdual</td>\n",
        "      <td>  36</td>\n",
        "      <td>  6</td>\n",
        "    </tr>\n",
        "    <tr>\n",
        "      <th>7 </th>\n",
        "      <td> [size, shape, color, 1, 2, 3, 4, 5, 6, 7, exac...</td>\n",
        "      <td> notdual</td>\n",
        "      <td>  21</td>\n",
        "      <td>  7</td>\n",
        "    </tr>\n",
        "    <tr>\n",
        "      <th>8 </th>\n",
        "      <td> [size, shape, color, 1, 2, 3, 4, 5, 6, 7, 8, e...</td>\n",
        "      <td> notdual</td>\n",
        "      <td>  20</td>\n",
        "      <td>  8</td>\n",
        "    </tr>\n",
        "    <tr>\n",
        "      <th>9 </th>\n",
        "      <td> [size, shape, color, 1, 2, 3, 4, 5, 6, 7, 8, 9...</td>\n",
        "      <td> notdual</td>\n",
        "      <td>  13</td>\n",
        "      <td>  9</td>\n",
        "    </tr>\n",
        "    <tr>\n",
        "      <th>10</th>\n",
        "      <td> [size, shape, color, 1, 2, 3, 4, 5, 6, 7, 8, 9...</td>\n",
        "      <td> notdual</td>\n",
        "      <td>  16</td>\n",
        "      <td> 10</td>\n",
        "    </tr>\n",
        "    <tr>\n",
        "      <th>11</th>\n",
        "      <td> [size, shape, color, 1, 2, 3, 4, 5, 6, 7, 8, 9...</td>\n",
        "      <td> notdual</td>\n",
        "      <td>   3</td>\n",
        "      <td> 11</td>\n",
        "    </tr>\n",
        "    <tr>\n",
        "      <th>12</th>\n",
        "      <td> [size, shape, color, 1, 2, 3, 4, 5, 6, 7, 8, 9...</td>\n",
        "      <td> notdual</td>\n",
        "      <td>   4</td>\n",
        "      <td> 12</td>\n",
        "    </tr>\n",
        "    <tr>\n",
        "      <th>13</th>\n",
        "      <td> [size, shape, color, 1, 2, 3, 4, 5, 6, 7, 8, 9...</td>\n",
        "      <td> notdual</td>\n",
        "      <td>   2</td>\n",
        "      <td> 13</td>\n",
        "    </tr>\n",
        "    <tr>\n",
        "      <th>14</th>\n",
        "      <td> [size, shape, color, 1, 2, 3, 4, 5, 6, 7, 8, 9...</td>\n",
        "      <td> notdual</td>\n",
        "      <td>   2</td>\n",
        "      <td> 14</td>\n",
        "    </tr>\n",
        "    <tr>\n",
        "      <th>15</th>\n",
        "      <td> [size, shape, color, 1, 2, 3, 4, 5, 6, 7, 8, 9...</td>\n",
        "      <td> notdual</td>\n",
        "      <td>   4</td>\n",
        "      <td> 15</td>\n",
        "    </tr>\n",
        "  </tbody>\n",
        "</table>\n",
        "<p>15 rows \u00d7 4 columns</p>\n",
        "</div>"
       ],
       "metadata": {},
       "output_type": "pyout",
       "prompt_number": 17,
       "text": [
        "                                                 Cues Outcomes  Frequency  \\\n",
        "1                   [size, shape, color, 1, exactly1]  notdual        455   \n",
        "2                [size, shape, color, 1, 2, exactly2]     dual        205   \n",
        "3             [size, shape, color, 1, 2, 3, exactly3]  notdual        107   \n",
        "4          [size, shape, color, 1, 2, 3, 4, exactly4]  notdual         60   \n",
        "5       [size, shape, color, 1, 2, 3, 4, 5, exactly5]  notdual         50   \n",
        "6    [size, shape, color, 1, 2, 3, 4, 5, 6, exactly6]  notdual         36   \n",
        "7   [size, shape, color, 1, 2, 3, 4, 5, 6, 7, exac...  notdual         21   \n",
        "8   [size, shape, color, 1, 2, 3, 4, 5, 6, 7, 8, e...  notdual         20   \n",
        "9   [size, shape, color, 1, 2, 3, 4, 5, 6, 7, 8, 9...  notdual         13   \n",
        "10  [size, shape, color, 1, 2, 3, 4, 5, 6, 7, 8, 9...  notdual         16   \n",
        "11  [size, shape, color, 1, 2, 3, 4, 5, 6, 7, 8, 9...  notdual          3   \n",
        "12  [size, shape, color, 1, 2, 3, 4, 5, 6, 7, 8, 9...  notdual          4   \n",
        "13  [size, shape, color, 1, 2, 3, 4, 5, 6, 7, 8, 9...  notdual          2   \n",
        "14  [size, shape, color, 1, 2, 3, 4, 5, 6, 7, 8, 9...  notdual          2   \n",
        "15  [size, shape, color, 1, 2, 3, 4, 5, 6, 7, 8, 9...  notdual          4   \n",
        "\n",
        "   Number  \n",
        "1       1  \n",
        "2       2  \n",
        "3       3  \n",
        "4       4  \n",
        "5       5  \n",
        "6       6  \n",
        "7       7  \n",
        "8       8  \n",
        "9       9  \n",
        "10     10  \n",
        "11     11  \n",
        "12     12  \n",
        "13     13  \n",
        "14     14  \n",
        "15     15  \n",
        "\n",
        "[15 rows x 4 columns]"
       ]
      }
     ],
     "prompt_number": 17
    },
    {
     "cell_type": "code",
     "collapsed": false,
     "input": [
      "P = [population_accuracy(M=i) for i in xrange(1,MAX_TRIALS)]"
     ],
     "language": "python",
     "metadata": {},
     "outputs": [],
     "prompt_number": 18
    },
    {
     "cell_type": "code",
     "collapsed": false,
     "input": [
      "plt.plot(range(1,len(P)+1), P, '-', linewidth=2)\n",
      "plt.title('Dual / non-dual distinction')\n",
      "plt.xlabel('Trial Number')\n",
      "plt.suptitle('Proportion of 100 learners who label all 15 items correctly')"
     ],
     "language": "python",
     "metadata": {},
     "outputs": [
      {
       "metadata": {},
       "output_type": "pyout",
       "prompt_number": 19,
       "text": [
        "<matplotlib.text.Text at 0x177ada90>"
       ]
      },
      {
       "metadata": {},
       "output_type": "display_data",
       "png": "[encoded data removed]",
       "text": [
        "<matplotlib.figure.Figure at 0x177d1400>"
       ]
      }
     ],
     "prompt_number": 19
    },
    {
     "cell_type": "heading",
     "level": 1,
     "metadata": {},
     "source": [
      "Singular, dual, plural"
     ]
    },
    {
     "cell_type": "code",
     "collapsed": false,
     "input": [
      "data['Outcomes'] = 'plural'\n",
      "data['Outcomes'][1] = 'singular'\n",
      "data['Outcomes'][2] = 'dual'"
     ],
     "language": "python",
     "metadata": {},
     "outputs": [],
     "prompt_number": 20
    },
    {
     "cell_type": "code",
     "collapsed": false,
     "input": [
      "P = [population_accuracy(M=i) for i in xrange(1,MAX_TRIALS)]"
     ],
     "language": "python",
     "metadata": {},
     "outputs": [],
     "prompt_number": 21
    },
    {
     "cell_type": "code",
     "collapsed": false,
     "input": [
      "plt.plot(range(1,len(P)+1), P, '-', linewidth=2)\n",
      "plt.title('Singular / dual / plural distinction')\n",
      "plt.xlabel('Trial Number')\n",
      "plt.suptitle('Proportion of 100 learners who label all 15 items correctly')"
     ],
     "language": "python",
     "metadata": {},
     "outputs": [
      {
       "metadata": {},
       "output_type": "pyout",
       "prompt_number": 22,
       "text": [
        "<matplotlib.text.Text at 0x178fa8d0>"
       ]
      },
      {
       "metadata": {},
       "output_type": "display_data",
       "png": "[encoded data removed]",
       "text": [
        "<matplotlib.figure.Figure at 0x177de470>"
       ]
      }
     ],
     "prompt_number": 22
    },
    {
     "cell_type": "heading",
     "level": 1,
     "metadata": {},
     "source": [
      "Singular, dual, trial, plural"
     ]
    },
    {
     "cell_type": "code",
     "collapsed": false,
     "input": [
      "data['Outcomes'] = 'plural'\n",
      "data['Outcomes'][1] = 'singular'\n",
      "data['Outcomes'][2] = 'dual'\n",
      "data['Outcomes'][3] = 'trial'"
     ],
     "language": "python",
     "metadata": {},
     "outputs": [],
     "prompt_number": 23
    },
    {
     "cell_type": "code",
     "collapsed": false,
     "input": [
      "P = [population_accuracy(M=i) for i in xrange(1,MAX_TRIALS)]"
     ],
     "language": "python",
     "metadata": {},
     "outputs": [],
     "prompt_number": 24
    },
    {
     "cell_type": "code",
     "collapsed": false,
     "input": [
      "plt.plot(range(1,len(P)+1), P, '-', linewidth=2)\n",
      "plt.title('Singular / dual / trial / plural distinction')\n",
      "plt.xlabel('Trial Number')\n",
      "plt.suptitle('Proportion of 100 learners who label all 15 items correctly')"
     ],
     "language": "python",
     "metadata": {},
     "outputs": [
      {
       "metadata": {},
       "output_type": "pyout",
       "prompt_number": 25,
       "text": [
        "<matplotlib.text.Text at 0x17cb2748>"
       ]
      },
      {
       "metadata": {},
       "output_type": "display_data",
       "png": "[encoded data removed]",
       "text": [
        "<matplotlib.figure.Figure at 0x17ca7ba8>"
       ]
      }
     ],
     "prompt_number": 25
    },
    {
     "cell_type": "heading",
     "level": 1,
     "metadata": {},
     "source": [
      "Singular, dual, trial, quadral, plural"
     ]
    },
    {
     "cell_type": "code",
     "collapsed": false,
     "input": [
      "data['Outcomes'] = 'plural'\n",
      "data['Outcomes'][1] = 'singular'\n",
      "data['Outcomes'][2] = 'dual'\n",
      "data['Outcomes'][3] = 'trial'\n",
      "data['Outcomes'][4] = '4ial'"
     ],
     "language": "python",
     "metadata": {},
     "outputs": [],
     "prompt_number": 30
    },
    {
     "cell_type": "code",
     "collapsed": false,
     "input": [
      "P = [population_accuracy(M=i) for i in xrange(1,MAX_TRIALS)]"
     ],
     "language": "python",
     "metadata": {},
     "outputs": [],
     "prompt_number": 31
    },
    {
     "cell_type": "code",
     "collapsed": false,
     "input": [
      "plt.plot(range(1,len(P)+1), P, '-', linewidth=2)\n",
      "plt.title('Singular / dual / trial / quadral plural distinction')\n",
      "plt.xlabel('Trial Number')\n",
      "plt.suptitle('Proportion of 100 learners who label all 15 items correctly')"
     ],
     "language": "python",
     "metadata": {},
     "outputs": [
      {
       "metadata": {},
       "output_type": "pyout",
       "prompt_number": 33,
       "text": [
        "<matplotlib.text.Text at 0x187c9dd8>"
       ]
      },
      {
       "metadata": {},
       "output_type": "display_data",
       "png": "[encoded data removed]",
       "text": [
        "<matplotlib.figure.Figure at 0x178e0f28>"
       ]
      }
     ],
     "prompt_number": 33
    },
    {
     "cell_type": "markdown",
     "metadata": {},
     "source": [
      "Prediction is that the typology of number systems should roughly correspond to how learnable each type of number system is"
     ]
    }
   ],
   "metadata": {}
  }
 ]
}
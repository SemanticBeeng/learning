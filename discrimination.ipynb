{
 "metadata": {
  "name": "",
  "signature": "sha256:d763939098b397efb1edfdab2b980b0df702f3bd2785c6c7484c604b12783b50"
 },
 "nbformat": 3,
 "nbformat_minor": 0,
 "worksheets": [
  {
   "cells": [
    {
     "cell_type": "markdown",
     "metadata": {},
     "source": [
      "Discriminative learning\n",
      "======================="
     ]
    },
    {
     "cell_type": "code",
     "collapsed": false,
     "input": [
      "import pandas as pd\n",
      "import matplotlib.pyplot as plt\n",
      "\n",
      "import ndl\n",
      "\n",
      "%matplotlib inline\n",
      "\n",
      "%precision 3\n",
      "pd.set_option('display.precision', 3)"
     ],
     "language": "python",
     "metadata": {},
     "outputs": [],
     "prompt_number": 1
    },
    {
     "cell_type": "code",
     "collapsed": false,
     "input": [
      "data = pd.DataFrame()\n",
      "data['Cues'] = [('A','X'),('B','X')]\n",
      "data['Outcomes'] = ['yes', 'no']\n",
      "data['Frequency'] = [1,1]\n",
      "data"
     ],
     "language": "python",
     "metadata": {},
     "outputs": [
      {
       "html": [
        "<div style=\"max-height:1000px;max-width:1500px;overflow:auto;\">\n",
        "<table border=\"1\" class=\"dataframe\">\n",
        "  <thead>\n",
        "    <tr style=\"text-align: right;\">\n",
        "      <th></th>\n",
        "      <th>Cues</th>\n",
        "      <th>Outcomes</th>\n",
        "      <th>Frequency</th>\n",
        "    </tr>\n",
        "  </thead>\n",
        "  <tbody>\n",
        "    <tr>\n",
        "      <th>0</th>\n",
        "      <td> (A, X)</td>\n",
        "      <td> yes</td>\n",
        "      <td> 1</td>\n",
        "    </tr>\n",
        "    <tr>\n",
        "      <th>1</th>\n",
        "      <td> (B, X)</td>\n",
        "      <td>  no</td>\n",
        "      <td> 1</td>\n",
        "    </tr>\n",
        "  </tbody>\n",
        "</table>\n",
        "</div>"
       ],
       "metadata": {},
       "output_type": "pyout",
       "prompt_number": 2,
       "text": [
        "     Cues Outcomes  Frequency\n",
        "0  (A, X)      yes          1\n",
        "1  (B, X)       no          1"
       ]
      }
     ],
     "prompt_number": 2
    },
    {
     "cell_type": "code",
     "collapsed": false,
     "input": [
      "W = [w['yes'] for w in ndl.rw(data, M=500, trajectory=True)]\n",
      "W = pd.DataFrame(W)"
     ],
     "language": "python",
     "metadata": {},
     "outputs": [],
     "prompt_number": 3
    },
    {
     "cell_type": "code",
     "collapsed": false,
     "input": [
      "for c, s in zip(W.columns, ['-','--','-.']):\n",
      "    plt.plot(W[c], label=c, linestyle=s)\n",
      "plt.legend(loc='upper left', bbox_to_anchor=(0.025, 0.975), ncol=3, fontsize='small')\n",
      "plt.xlabel('Trial')\n",
      "plt.ylabel('Weight')\n",
      "fig = plt.gcf()\n",
      "fig.set_size_inches(4,2.67)\n",
      "plt.savefig('discrim1.pdf')"
     ],
     "language": "python",
     "metadata": {},
     "outputs": [
      {
       "metadata": {},
       "output_type": "display_data",
       "png": "[encoded data removed]",
       "text": [
        "<matplotlib.figure.Figure at 0x11393a5d0>"
       ]
      }
     ],
     "prompt_number": 19
    },
    {
     "cell_type": "code",
     "collapsed": false,
     "input": [
      "plt.plot(W['A']+W['X'], label='AX', linestyle='-')\n",
      "plt.plot(W['B']+W['X'], label='BX', linestyle='--')\n",
      "\n",
      "plt.legend(loc='upper left', bbox_to_anchor=(0.025, 0.975), ncol=3, fontsize='small')\n",
      "plt.xlabel('Trial')\n",
      "plt.ylabel('Activation')\n",
      "fig = plt.gcf()\n",
      "fig.set_size_inches(4,2.67)\n",
      "plt.savefig('discrim2.pdf')"
     ],
     "language": "python",
     "metadata": {},
     "outputs": [
      {
       "metadata": {},
       "output_type": "display_data",
       "png": "[encoded data removed]",
       "text": [
        "<matplotlib.figure.Figure at 0x11393e690>"
       ]
      }
     ],
     "prompt_number": 20
    },
    {
     "cell_type": "code",
     "collapsed": false,
     "input": [],
     "language": "python",
     "metadata": {},
     "outputs": []
    }
   ],
   "metadata": {}
  }
 ]
}
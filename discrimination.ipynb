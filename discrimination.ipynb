{
 "metadata": {
  "name": "",
  "signature": "sha256:4fd2bdf603249c898b2211f991d5ef5aa13d7fb18cff47e8300ebcee0cdedb86"
 },
 "nbformat": 3,
 "nbformat_minor": 0,
 "worksheets": [
  {
   "cells": [
    {
     "cell_type": "code",
     "collapsed": false,
     "input": [
      "import pandas as pd\n",
      "import matplotlib.pyplot as plt\n",
      "\n",
      "import ndl\n",
      "\n",
      "%matplotlib inline\n",
      "\n",
      "%precision 3\n",
      "pd.set_option('display.precision', 3)"
     ],
     "language": "python",
     "metadata": {},
     "outputs": [
      {
       "output_type": "stream",
       "stream": "stdout",
       "text": [
        "The autoreload extension is already loaded. To reload it, use:\n",
        "  %reload_ext autoreload\n"
       ]
      }
     ],
     "prompt_number": 50
    },
    {
     "cell_type": "code",
     "collapsed": false,
     "input": [
      "data = pd.DataFrame()\n",
      "data['Cues'] = [('A','X'),('B','X')]\n",
      "data['Outcomes'] = ['yes', 'no']\n",
      "data['Frequency'] = [1,1]\n",
      "data"
     ],
     "language": "python",
     "metadata": {},
     "outputs": [
      {
       "html": [
        "<div style=\"max-height:1000px;max-width:1500px;overflow:auto;\">\n",
        "<table border=\"1\" class=\"dataframe\">\n",
        "  <thead>\n",
        "    <tr style=\"text-align: right;\">\n",
        "      <th></th>\n",
        "      <th>Cues</th>\n",
        "      <th>Outcomes</th>\n",
        "      <th>Frequency</th>\n",
        "    </tr>\n",
        "  </thead>\n",
        "  <tbody>\n",
        "    <tr>\n",
        "      <th>0</th>\n",
        "      <td> (A, X)</td>\n",
        "      <td> yes</td>\n",
        "      <td> 1</td>\n",
        "    </tr>\n",
        "    <tr>\n",
        "      <th>1</th>\n",
        "      <td> (B, X)</td>\n",
        "      <td>  no</td>\n",
        "      <td> 1</td>\n",
        "    </tr>\n",
        "  </tbody>\n",
        "</table>\n",
        "</div>"
       ],
       "metadata": {},
       "output_type": "pyout",
       "prompt_number": 51,
       "text": [
        "     Cues Outcomes  Frequency\n",
        "0  (A, X)      yes          1\n",
        "1  (B, X)       no          1"
       ]
      }
     ],
     "prompt_number": 51
    },
    {
     "cell_type": "code",
     "collapsed": false,
     "input": [
      "W = [w['yes'] for w in ndl.rw(data, M=500, trajectory=True)]\n",
      "W = pd.DataFrame(W)"
     ],
     "language": "python",
     "metadata": {},
     "outputs": [],
     "prompt_number": 62
    },
    {
     "cell_type": "code",
     "collapsed": false,
     "input": [
      "for c in W.columns:\n",
      "    plt.plot(W[c], label=c)\n",
      "plt.legend(loc='upper center', bbox_to_anchor=(0.5, 0.975), ncol=3, fontsize='small')\n",
      "plt.xlabel('Trial')\n",
      "plt.ylabel('Weight')\n",
      "fig = plt.gcf()\n",
      "fig.set_size_inches(5,3.3)\n",
      "plt.savefig('discrim.pdf')"
     ],
     "language": "python",
     "metadata": {},
     "outputs": [
      {
       "metadata": {},
       "output_type": "display_data",
       "png": "[encoded data removed]",
       "text": [
        "<matplotlib.figure.Figure at 0x1149726d0>"
       ]
      }
     ],
     "prompt_number": 79
    },
    {
     "cell_type": "code",
     "collapsed": false,
     "input": [],
     "language": "python",
     "metadata": {},
     "outputs": []
    }
   ],
   "metadata": {}
  }
 ]
}